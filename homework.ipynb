{
 "cells": [
  {
   "cell_type": "markdown",
   "metadata": {},
   "source": [
    "# Homework\n",
    "\n",
    "Well done for progressing to this part of the mini-course, and engaging with the extra content! Below are some exercises about the Pandas package that will help you understand some more advanced concepts for working with `DataFrame`s of more complex data."
   ]
  },
  {
   "cell_type": "markdown",
   "metadata": {},
   "source": [
    "## Hierarchical indexing\n",
    "\n",
    "We looked at the index before, but sometimes it makes sense to index data in more than one way. We will look at some examples below."
   ]
  },
  {
   "cell_type": "code",
   "execution_count": 1,
   "metadata": {},
   "outputs": [
    {
     "data": {
      "text/html": [
       "<div>\n",
       "<style scoped>\n",
       "    .dataframe tbody tr th:only-of-type {\n",
       "        vertical-align: middle;\n",
       "    }\n",
       "\n",
       "    .dataframe tbody tr th {\n",
       "        vertical-align: top;\n",
       "    }\n",
       "\n",
       "    .dataframe thead th {\n",
       "        text-align: right;\n",
       "    }\n",
       "</style>\n",
       "<table border=\"1\" class=\"dataframe\">\n",
       "  <thead>\n",
       "    <tr style=\"text-align: right;\">\n",
       "      <th></th>\n",
       "      <th></th>\n",
       "      <th>Population</th>\n",
       "    </tr>\n",
       "    <tr>\n",
       "      <th>City</th>\n",
       "      <th>Year</th>\n",
       "      <th></th>\n",
       "    </tr>\n",
       "  </thead>\n",
       "  <tbody>\n",
       "    <tr>\n",
       "      <th rowspan=\"2\" valign=\"top\">New York</th>\n",
       "      <th>2020</th>\n",
       "      <td>8336817</td>\n",
       "    </tr>\n",
       "    <tr>\n",
       "      <th>2021</th>\n",
       "      <td>8398748</td>\n",
       "    </tr>\n",
       "    <tr>\n",
       "      <th rowspan=\"2\" valign=\"top\">Los Angeles</th>\n",
       "      <th>2020</th>\n",
       "      <td>3979576</td>\n",
       "    </tr>\n",
       "    <tr>\n",
       "      <th>2021</th>\n",
       "      <td>3898747</td>\n",
       "    </tr>\n",
       "    <tr>\n",
       "      <th rowspan=\"2\" valign=\"top\">Chicago</th>\n",
       "      <th>2020</th>\n",
       "      <td>2693976</td>\n",
       "    </tr>\n",
       "    <tr>\n",
       "      <th>2021</th>\n",
       "      <td>2746388</td>\n",
       "    </tr>\n",
       "  </tbody>\n",
       "</table>\n",
       "</div>"
      ],
      "text/plain": [
       "                  Population\n",
       "City        Year            \n",
       "New York    2020     8336817\n",
       "            2021     8398748\n",
       "Los Angeles 2020     3979576\n",
       "            2021     3898747\n",
       "Chicago     2020     2693976\n",
       "            2021     2746388"
      ]
     },
     "execution_count": 1,
     "metadata": {},
     "output_type": "execute_result"
    }
   ],
   "source": [
    "import pandas as pd\n",
    "\n",
    "# Creating a DataFrame with hierarchical indexing (MultiIndex)\n",
    "data = {\n",
    "    \"City\": [\"New York\", \"New York\", \"Los Angeles\", \"Los Angeles\", \"Chicago\", \"Chicago\"],\n",
    "    \"Year\": [2020, 2021, 2020, 2021, 2020, 2021],\n",
    "    \"Population\": [8_336_817, 8_398_748, 3_979_576, 3_898_747, 2_693_976, 2_746_388]\n",
    "}\n",
    "\n",
    "df = pd.DataFrame(data)\n",
    "df.set_index([\"City\", \"Year\"], inplace=True)  # Setting a MultiIndex\n",
    "\n",
    "# Display the DataFrame\n",
    "df"
   ]
  },
  {
   "cell_type": "code",
   "execution_count": 2,
   "metadata": {},
   "outputs": [
    {
     "data": {
      "text/plain": [
       "Population    8336817\n",
       "Name: (New York, 2020), dtype: int64"
      ]
     },
     "execution_count": 2,
     "metadata": {},
     "output_type": "execute_result"
    }
   ],
   "source": [
    "# Accessing data for a specific city and year\n",
    "df.loc[\"New York\", 2020]"
   ]
  },
  {
   "cell_type": "code",
   "execution_count": 3,
   "metadata": {},
   "outputs": [
    {
     "data": {
      "text/html": [
       "<div>\n",
       "<style scoped>\n",
       "    .dataframe tbody tr th:only-of-type {\n",
       "        vertical-align: middle;\n",
       "    }\n",
       "\n",
       "    .dataframe tbody tr th {\n",
       "        vertical-align: top;\n",
       "    }\n",
       "\n",
       "    .dataframe thead th {\n",
       "        text-align: right;\n",
       "    }\n",
       "</style>\n",
       "<table border=\"1\" class=\"dataframe\">\n",
       "  <thead>\n",
       "    <tr style=\"text-align: right;\">\n",
       "      <th></th>\n",
       "      <th>Population</th>\n",
       "    </tr>\n",
       "    <tr>\n",
       "      <th>Year</th>\n",
       "      <th></th>\n",
       "    </tr>\n",
       "  </thead>\n",
       "  <tbody>\n",
       "    <tr>\n",
       "      <th>2020</th>\n",
       "      <td>3979576</td>\n",
       "    </tr>\n",
       "    <tr>\n",
       "      <th>2021</th>\n",
       "      <td>3898747</td>\n",
       "    </tr>\n",
       "  </tbody>\n",
       "</table>\n",
       "</div>"
      ],
      "text/plain": [
       "      Population\n",
       "Year            \n",
       "2020     3979576\n",
       "2021     3898747"
      ]
     },
     "execution_count": 3,
     "metadata": {},
     "output_type": "execute_result"
    }
   ],
   "source": [
    "# Accessing data for all years of a specific city\n",
    "df.loc[\"Los Angeles\"]"
   ]
  },
  {
   "cell_type": "code",
   "execution_count": 4,
   "metadata": {},
   "outputs": [
    {
     "data": {
      "text/html": [
       "<div>\n",
       "<style scoped>\n",
       "    .dataframe tbody tr th:only-of-type {\n",
       "        vertical-align: middle;\n",
       "    }\n",
       "\n",
       "    .dataframe tbody tr th {\n",
       "        vertical-align: top;\n",
       "    }\n",
       "\n",
       "    .dataframe thead th {\n",
       "        text-align: right;\n",
       "    }\n",
       "</style>\n",
       "<table border=\"1\" class=\"dataframe\">\n",
       "  <thead>\n",
       "    <tr style=\"text-align: right;\">\n",
       "      <th></th>\n",
       "      <th>City</th>\n",
       "      <th>Year</th>\n",
       "      <th>Population</th>\n",
       "    </tr>\n",
       "  </thead>\n",
       "  <tbody>\n",
       "    <tr>\n",
       "      <th>0</th>\n",
       "      <td>New York</td>\n",
       "      <td>2020</td>\n",
       "      <td>8336817</td>\n",
       "    </tr>\n",
       "    <tr>\n",
       "      <th>1</th>\n",
       "      <td>New York</td>\n",
       "      <td>2021</td>\n",
       "      <td>8398748</td>\n",
       "    </tr>\n",
       "    <tr>\n",
       "      <th>2</th>\n",
       "      <td>Los Angeles</td>\n",
       "      <td>2020</td>\n",
       "      <td>3979576</td>\n",
       "    </tr>\n",
       "    <tr>\n",
       "      <th>3</th>\n",
       "      <td>Los Angeles</td>\n",
       "      <td>2021</td>\n",
       "      <td>3898747</td>\n",
       "    </tr>\n",
       "    <tr>\n",
       "      <th>4</th>\n",
       "      <td>Chicago</td>\n",
       "      <td>2020</td>\n",
       "      <td>2693976</td>\n",
       "    </tr>\n",
       "    <tr>\n",
       "      <th>5</th>\n",
       "      <td>Chicago</td>\n",
       "      <td>2021</td>\n",
       "      <td>2746388</td>\n",
       "    </tr>\n",
       "  </tbody>\n",
       "</table>\n",
       "</div>"
      ],
      "text/plain": [
       "          City  Year  Population\n",
       "0     New York  2020     8336817\n",
       "1     New York  2021     8398748\n",
       "2  Los Angeles  2020     3979576\n",
       "3  Los Angeles  2021     3898747\n",
       "4      Chicago  2020     2693976\n",
       "5      Chicago  2021     2746388"
      ]
     },
     "execution_count": 4,
     "metadata": {},
     "output_type": "execute_result"
    }
   ],
   "source": [
    "# Resetting the index to turn the MultiIndex back into columns\n",
    "df_reset = df.reset_index()\n",
    "df_reset"
   ]
  },
  {
   "cell_type": "code",
   "execution_count": 5,
   "metadata": {},
   "outputs": [
    {
     "data": {
      "text/html": [
       "<div>\n",
       "<style scoped>\n",
       "    .dataframe tbody tr th:only-of-type {\n",
       "        vertical-align: middle;\n",
       "    }\n",
       "\n",
       "    .dataframe tbody tr th {\n",
       "        vertical-align: top;\n",
       "    }\n",
       "\n",
       "    .dataframe thead th {\n",
       "        text-align: right;\n",
       "    }\n",
       "</style>\n",
       "<table border=\"1\" class=\"dataframe\">\n",
       "  <thead>\n",
       "    <tr style=\"text-align: right;\">\n",
       "      <th></th>\n",
       "      <th></th>\n",
       "      <th></th>\n",
       "      <th>Population</th>\n",
       "    </tr>\n",
       "    <tr>\n",
       "      <th>Region</th>\n",
       "      <th>City</th>\n",
       "      <th>Year</th>\n",
       "      <th></th>\n",
       "    </tr>\n",
       "  </thead>\n",
       "  <tbody>\n",
       "    <tr>\n",
       "      <th rowspan=\"2\" valign=\"top\">East</th>\n",
       "      <th rowspan=\"2\" valign=\"top\">New York</th>\n",
       "      <th>2020</th>\n",
       "      <td>8336817</td>\n",
       "    </tr>\n",
       "    <tr>\n",
       "      <th>2021</th>\n",
       "      <td>8398748</td>\n",
       "    </tr>\n",
       "    <tr>\n",
       "      <th rowspan=\"2\" valign=\"top\">West</th>\n",
       "      <th rowspan=\"2\" valign=\"top\">Los Angeles</th>\n",
       "      <th>2020</th>\n",
       "      <td>3979576</td>\n",
       "    </tr>\n",
       "    <tr>\n",
       "      <th>2021</th>\n",
       "      <td>3898747</td>\n",
       "    </tr>\n",
       "    <tr>\n",
       "      <th rowspan=\"2\" valign=\"top\">Midwest</th>\n",
       "      <th rowspan=\"2\" valign=\"top\">Chicago</th>\n",
       "      <th>2020</th>\n",
       "      <td>2693976</td>\n",
       "    </tr>\n",
       "    <tr>\n",
       "      <th>2021</th>\n",
       "      <td>2746388</td>\n",
       "    </tr>\n",
       "  </tbody>\n",
       "</table>\n",
       "</div>"
      ],
      "text/plain": [
       "                          Population\n",
       "Region  City        Year            \n",
       "East    New York    2020     8336817\n",
       "                    2021     8398748\n",
       "West    Los Angeles 2020     3979576\n",
       "                    2021     3898747\n",
       "Midwest Chicago     2020     2693976\n",
       "                    2021     2746388"
      ]
     },
     "execution_count": 5,
     "metadata": {},
     "output_type": "execute_result"
    }
   ],
   "source": [
    "# Adding another level to the index (e.g., Region)\n",
    "df_reset[\"Region\"] = [\"East\", \"East\", \"West\", \"West\", \"Midwest\", \"Midwest\"]\n",
    "df_multi = df_reset.set_index([\"Region\", \"City\", \"Year\"])\n",
    "df_multi"
   ]
  },
  {
   "cell_type": "code",
   "execution_count": 6,
   "metadata": {},
   "outputs": [
    {
     "data": {
      "text/html": [
       "<div>\n",
       "<style scoped>\n",
       "    .dataframe tbody tr th:only-of-type {\n",
       "        vertical-align: middle;\n",
       "    }\n",
       "\n",
       "    .dataframe tbody tr th {\n",
       "        vertical-align: top;\n",
       "    }\n",
       "\n",
       "    .dataframe thead th {\n",
       "        text-align: right;\n",
       "    }\n",
       "</style>\n",
       "<table border=\"1\" class=\"dataframe\">\n",
       "  <thead>\n",
       "    <tr style=\"text-align: right;\">\n",
       "      <th></th>\n",
       "      <th></th>\n",
       "      <th></th>\n",
       "      <th>Population</th>\n",
       "    </tr>\n",
       "    <tr>\n",
       "      <th>Region</th>\n",
       "      <th>City</th>\n",
       "      <th>Year</th>\n",
       "      <th></th>\n",
       "    </tr>\n",
       "  </thead>\n",
       "  <tbody>\n",
       "    <tr>\n",
       "      <th rowspan=\"2\" valign=\"top\">East</th>\n",
       "      <th rowspan=\"2\" valign=\"top\">New York</th>\n",
       "      <th>2020</th>\n",
       "      <td>8336817</td>\n",
       "    </tr>\n",
       "    <tr>\n",
       "      <th>2021</th>\n",
       "      <td>8398748</td>\n",
       "    </tr>\n",
       "    <tr>\n",
       "      <th rowspan=\"2\" valign=\"top\">Midwest</th>\n",
       "      <th rowspan=\"2\" valign=\"top\">Chicago</th>\n",
       "      <th>2020</th>\n",
       "      <td>2693976</td>\n",
       "    </tr>\n",
       "    <tr>\n",
       "      <th>2021</th>\n",
       "      <td>2746388</td>\n",
       "    </tr>\n",
       "    <tr>\n",
       "      <th rowspan=\"2\" valign=\"top\">West</th>\n",
       "      <th rowspan=\"2\" valign=\"top\">Los Angeles</th>\n",
       "      <th>2020</th>\n",
       "      <td>3979576</td>\n",
       "    </tr>\n",
       "    <tr>\n",
       "      <th>2021</th>\n",
       "      <td>3898747</td>\n",
       "    </tr>\n",
       "  </tbody>\n",
       "</table>\n",
       "</div>"
      ],
      "text/plain": [
       "                          Population\n",
       "Region  City        Year            \n",
       "East    New York    2020     8336817\n",
       "                    2021     8398748\n",
       "Midwest Chicago     2020     2693976\n",
       "                    2021     2746388\n",
       "West    Los Angeles 2020     3979576\n",
       "                    2021     3898747"
      ]
     },
     "execution_count": 6,
     "metadata": {},
     "output_type": "execute_result"
    }
   ],
   "source": [
    "# Sorting by the levels of the MultiIndex\n",
    "df_multi_sorted = df_multi.sort_index(level=[\"Region\", \"City\"])\n",
    "df_multi_sorted"
   ]
  },
  {
   "cell_type": "code",
   "execution_count": 7,
   "metadata": {},
   "outputs": [
    {
     "data": {
      "text/html": [
       "<div>\n",
       "<style scoped>\n",
       "    .dataframe tbody tr th:only-of-type {\n",
       "        vertical-align: middle;\n",
       "    }\n",
       "\n",
       "    .dataframe tbody tr th {\n",
       "        vertical-align: top;\n",
       "    }\n",
       "\n",
       "    .dataframe thead th {\n",
       "        text-align: right;\n",
       "    }\n",
       "</style>\n",
       "<table border=\"1\" class=\"dataframe\">\n",
       "  <thead>\n",
       "    <tr style=\"text-align: right;\">\n",
       "      <th></th>\n",
       "      <th></th>\n",
       "      <th>Population</th>\n",
       "    </tr>\n",
       "    <tr>\n",
       "      <th>Region</th>\n",
       "      <th>City</th>\n",
       "      <th></th>\n",
       "    </tr>\n",
       "  </thead>\n",
       "  <tbody>\n",
       "    <tr>\n",
       "      <th>East</th>\n",
       "      <th>New York</th>\n",
       "      <td>8336817</td>\n",
       "    </tr>\n",
       "    <tr>\n",
       "      <th>West</th>\n",
       "      <th>Los Angeles</th>\n",
       "      <td>3979576</td>\n",
       "    </tr>\n",
       "    <tr>\n",
       "      <th>Midwest</th>\n",
       "      <th>Chicago</th>\n",
       "      <td>2693976</td>\n",
       "    </tr>\n",
       "  </tbody>\n",
       "</table>\n",
       "</div>"
      ],
      "text/plain": [
       "                     Population\n",
       "Region  City                   \n",
       "East    New York        8336817\n",
       "West    Los Angeles     3979576\n",
       "Midwest Chicago         2693976"
      ]
     },
     "execution_count": 7,
     "metadata": {},
     "output_type": "execute_result"
    }
   ],
   "source": [
    "# Using .xs() to access data across a specific level (e.g., all data for the year 2020)\n",
    "df_multi.xs(2020, level=\"Year\")"
   ]
  },
  {
   "cell_type": "markdown",
   "metadata": {},
   "source": [
    "### Exercises\n",
    "\n",
    "1. Create a similar DataFrame for another dataset (e.g., sales data with Region, Product, and Year as indices). You could even take some rows from a real dataset! One example might be <a href=\"https://archive.ics.uci.edu/dataset/360/air+quality\">the UC Irvine ML repository Air Quality dataset</a>, which has both a date and a time index\n",
    "\n",
    "\n",
    "2. Practice accessing rows using `.loc[]` and `.xs()`.\n",
    "\n",
    "3. Experiment with sorting by different levels of your MultiIndex.\n",
    "\n",
    "4. Reset the index and re-create it with additional levels.\n"
   ]
  },
  {
   "cell_type": "code",
   "execution_count": 8,
   "metadata": {},
   "outputs": [],
   "source": [
    "# Put your working here (Esc > 'b' to add more cells)"
   ]
  },
  {
   "cell_type": "markdown",
   "metadata": {},
   "source": [
    "## Join/merging\n",
    "\n",
    "This is when we take data from one table which is somehow relevant to the data in another table, and capture all of that information in a single table."
   ]
  },
  {
   "cell_type": "code",
   "execution_count": 9,
   "metadata": {},
   "outputs": [
    {
     "name": "stdout",
     "output_type": "stream",
     "text": [
      "DataFrame 1:\n",
      "   id     Name  Age\n",
      "0   1    Alice   25\n",
      "1   2      Bob   30\n",
      "2   3  Charlie   35\n",
      "3   4    David   40\n",
      "\n",
      "DataFrame 2:\n",
      "   id         City  Income\n",
      "0   3      Chicago   70000\n",
      "1   4      Houston   80000\n",
      "2   5  Los Angeles   90000\n",
      "3   6     New York  100000\n"
     ]
    }
   ],
   "source": [
    "import pandas as pd # import again in case the last section hasn't been run\n",
    "\n",
    "# Creating two DataFrames to merge\n",
    "df1 = pd.DataFrame({\n",
    "    \"id\": [1, 2, 3, 4],\n",
    "    \"Name\": [\"Alice\", \"Bob\", \"Charlie\", \"David\"],\n",
    "    \"Age\": [25, 30, 35, 40]\n",
    "})\n",
    "\n",
    "df2 = pd.DataFrame({\n",
    "    \"id\": [3, 4, 5, 6],\n",
    "    \"City\": [\"Chicago\", \"Houston\", \"Los Angeles\", \"New York\"],\n",
    "    \"Income\": [70000, 80000, 90000, 100000]\n",
    "})\n",
    "\n",
    "print(\"DataFrame 1:\")\n",
    "print(df1)\n",
    "\n",
    "print(\"\\nDataFrame 2:\")\n",
    "print(df2)\n"
   ]
  },
  {
   "cell_type": "code",
   "execution_count": 10,
   "metadata": {},
   "outputs": [
    {
     "name": "stdout",
     "output_type": "stream",
     "text": [
      "Inner Join Result:\n",
      "   id     Name  Age     City  Income\n",
      "0   3  Charlie   35  Chicago   70000\n",
      "1   4    David   40  Houston   80000\n"
     ]
    }
   ],
   "source": [
    "# Inner join: Keeps only rows with matching 'id' in both DataFrames\n",
    "df_inner = pd.merge(df1, df2, on=\"id\", how=\"inner\")\n",
    "\n",
    "print(\"Inner Join Result:\")\n",
    "print(df_inner)"
   ]
  },
  {
   "cell_type": "code",
   "execution_count": 11,
   "metadata": {},
   "outputs": [
    {
     "name": "stdout",
     "output_type": "stream",
     "text": [
      "Left Join Result:\n",
      "   id     Name  Age     City   Income\n",
      "0   1    Alice   25      NaN      NaN\n",
      "1   2      Bob   30      NaN      NaN\n",
      "2   3  Charlie   35  Chicago  70000.0\n",
      "3   4    David   40  Houston  80000.0\n"
     ]
    }
   ],
   "source": [
    "# 'Left' join: Keeps all rows from df1 and matches from df2 where possible\n",
    "df_left = pd.merge(df1, df2, on=\"id\", how=\"left\")\n",
    "\n",
    "print(\"Left Join Result:\")\n",
    "print(df_left)"
   ]
  },
  {
   "cell_type": "code",
   "execution_count": 12,
   "metadata": {},
   "outputs": [
    {
     "name": "stdout",
     "output_type": "stream",
     "text": [
      "Right Join Result:\n",
      "   id     Name   Age         City  Income\n",
      "0   3  Charlie  35.0      Chicago   70000\n",
      "1   4    David  40.0      Houston   80000\n",
      "2   5      NaN   NaN  Los Angeles   90000\n",
      "3   6      NaN   NaN     New York  100000\n"
     ]
    }
   ],
   "source": [
    "# Right join: Keeps all rows from df2 and matches from df1 where possible\n",
    "df_right = pd.merge(df1, df2, on=\"id\", how=\"right\")\n",
    "\n",
    "print(\"Right Join Result:\")\n",
    "print(df_right)"
   ]
  },
  {
   "cell_type": "code",
   "execution_count": 13,
   "metadata": {},
   "outputs": [
    {
     "name": "stdout",
     "output_type": "stream",
     "text": [
      "Outer Join Result:\n",
      "   id     Name   Age         City    Income\n",
      "0   1    Alice  25.0          NaN       NaN\n",
      "1   2      Bob  30.0          NaN       NaN\n",
      "2   3  Charlie  35.0      Chicago   70000.0\n",
      "3   4    David  40.0      Houston   80000.0\n",
      "4   5      NaN   NaN  Los Angeles   90000.0\n",
      "5   6      NaN   NaN     New York  100000.0\n"
     ]
    }
   ],
   "source": [
    "# Outer join: Keeps all rows from both DataFrames with NaNs where no match exists\n",
    "df_outer = pd.merge(df1, df2, on=\"id\", how=\"outer\")\n",
    "\n",
    "print(\"Outer Join Result:\")\n",
    "print(df_outer)"
   ]
  },
  {
   "cell_type": "code",
   "execution_count": 14,
   "metadata": {},
   "outputs": [
    {
     "name": "stdout",
     "output_type": "stream",
     "text": [
      "Outer Join with Custom Suffixes:\n",
      "   id     Name  Feature_left         City  Feature_right\n",
      "0   1    Alice          25.0          NaN            NaN\n",
      "1   2      Bob          30.0          NaN            NaN\n",
      "2   3  Charlie          35.0      Chicago        70000.0\n",
      "3   4    David          40.0      Houston        80000.0\n",
      "4   5      NaN           NaN  Los Angeles        90000.0\n",
      "5   6      NaN           NaN     New York       100000.0\n"
     ]
    }
   ],
   "source": [
    "# Customizing column suffixes for overlapping column names\n",
    "df_suffix = pd.merge(df1.rename(columns={\"Age\": \"Feature\"}), df2.rename(columns={\"Income\": \"Feature\"}), \n",
    "                     on=\"id\", how=\"outer\", suffixes=(\"_left\", \"_right\"))\n",
    "\n",
    "print(\"Outer Join with Custom Suffixes:\")\n",
    "print(df_suffix)"
   ]
  },
  {
   "cell_type": "code",
   "execution_count": 15,
   "metadata": {},
   "outputs": [
    {
     "name": "stdout",
     "output_type": "stream",
     "text": [
      "Merge on Different Columns:\n",
      "   id   Name  Age  PersonID    Hobby\n",
      "0   1  Alice   25         1  Reading\n",
      "1   2    Bob   30         2  Cycling\n"
     ]
    }
   ],
   "source": [
    "# Example of merging on different column names using left_on and right_on\n",
    "df3 = pd.DataFrame({\n",
    "    \"PersonID\": [1, 2],\n",
    "    \"Hobby\": [\"Reading\", \"Cycling\"]\n",
    "})\n",
    "\n",
    "df_merge_diff_cols = pd.merge(df1, df3, left_on=\"id\", right_on=\"PersonID\")\n",
    "\n",
    "print(\"Merge on Different Columns:\")\n",
    "print(df_merge_diff_cols)"
   ]
  },
  {
   "cell_type": "markdown",
   "metadata": {},
   "source": [
    "### Exercise\n",
    "\n",
    "Play around with the data provided, add and remove columns and rows, see what breaks this and what you can do with it beyond what was immediately provided! Continue changing things and predicting the result of changing them until you are confident with the idea of what \"merging\" data is"
   ]
  },
  {
   "cell_type": "code",
   "execution_count": 16,
   "metadata": {},
   "outputs": [],
   "source": [
    "# Put your working here (Esc > 'b' to add more cells)"
   ]
  },
  {
   "cell_type": "markdown",
   "metadata": {},
   "source": [
    "## GroupBy\n",
    "\n",
    "This is when we aggregate the data in a table into groups in a particular way, and usually then compute some statistics for each group."
   ]
  },
  {
   "cell_type": "code",
   "execution_count": 17,
   "metadata": {},
   "outputs": [
    {
     "name": "stdout",
     "output_type": "stream",
     "text": [
      "Sample DataFrame:\n",
      "      Category  Sales Region\n",
      "0  Electronics   1000   East\n",
      "1     Clothing    500   West\n",
      "2  Electronics    800   East\n",
      "3     Clothing    300   West\n",
      "4  Electronics   1200   East\n"
     ]
    }
   ],
   "source": [
    "import pandas as pd # import again in case the last section hasn't been run\n",
    "\n",
    "# Create a sample DataFrame\n",
    "data = {\n",
    "    \"Category\": [\"Electronics\", \"Clothing\", \"Electronics\", \"Clothing\", \"Electronics\"],\n",
    "    \"Sales\": [1000, 500, 800, 300, 1200],\n",
    "    \"Region\": [\"East\", \"West\", \"East\", \"West\", \"East\"]\n",
    "}\n",
    "\n",
    "df = pd.DataFrame(data)\n",
    "\n",
    "print(\"Sample DataFrame:\")\n",
    "print(df)\n"
   ]
  },
  {
   "cell_type": "code",
   "execution_count": 18,
   "metadata": {},
   "outputs": [
    {
     "name": "stdout",
     "output_type": "stream",
     "text": [
      "Total Sales by Category:\n",
      "Category\n",
      "Clothing        800\n",
      "Electronics    3000\n",
      "Name: Sales, dtype: int64\n"
     ]
    }
   ],
   "source": [
    "# Group by 'Category' and calculate the total sales for each category\n",
    "grouped_single = df.groupby(\"Category\")[\"Sales\"].sum()\n",
    "\n",
    "print(\"Total Sales by Category:\")\n",
    "print(grouped_single)"
   ]
  },
  {
   "cell_type": "code",
   "execution_count": 19,
   "metadata": {},
   "outputs": [
    {
     "name": "stdout",
     "output_type": "stream",
     "text": [
      "Total Sales by Category and Region:\n",
      "Category     Region\n",
      "Clothing     West       800\n",
      "Electronics  East      3000\n",
      "Name: Sales, dtype: int64\n"
     ]
    }
   ],
   "source": [
    "# Group by 'Category' and 'Region', and calculate the total sales for each group\n",
    "grouped_multiple = df.groupby([\"Category\", \"Region\"])[\"Sales\"].sum()\n",
    "\n",
    "print(\"Total Sales by Category and Region:\")\n",
    "print(grouped_multiple)"
   ]
  },
  {
   "cell_type": "code",
   "execution_count": 20,
   "metadata": {},
   "outputs": [
    {
     "name": "stdout",
     "output_type": "stream",
     "text": [
      "Sum and Mean of Sales by Category:\n",
      "              sum    mean\n",
      "Category                 \n",
      "Clothing      800   400.0\n",
      "Electronics  3000  1000.0\n"
     ]
    }
   ],
   "source": [
    "# Apply multiple aggregate functions (e.g., sum and mean) to 'Sales'\n",
    "aggregated = df.groupby(\"Category\")[\"Sales\"].agg([\"sum\", \"mean\"])\n",
    "\n",
    "print(\"Sum and Mean of Sales by Category:\")\n",
    "print(aggregated)"
   ]
  },
  {
   "cell_type": "code",
   "execution_count": 21,
   "metadata": {},
   "outputs": [
    {
     "name": "stdout",
     "output_type": "stream",
     "text": [
      "Data for Electronics Category:\n",
      "      Category  Sales Region\n",
      "0  Electronics   1000   East\n",
      "2  Electronics    800   East\n",
      "4  Electronics   1200   East\n"
     ]
    }
   ],
   "source": [
    "# Access the group corresponding to the 'Electronics' category\n",
    "electronics_group = df.groupby(\"Category\").get_group(\"Electronics\")\n",
    "\n",
    "print(\"Data for Electronics Category:\")\n",
    "print(electronics_group)"
   ]
  },
  {
   "cell_type": "code",
   "execution_count": 22,
   "metadata": {},
   "outputs": [
    {
     "name": "stdout",
     "output_type": "stream",
     "text": [
      "Iterating through groups:\n",
      "\n",
      "Group: Clothing\n",
      "   Category  Sales Region\n",
      "1  Clothing    500   West\n",
      "3  Clothing    300   West\n",
      "\n",
      "Group: Electronics\n",
      "      Category  Sales Region\n",
      "0  Electronics   1000   East\n",
      "2  Electronics    800   East\n",
      "4  Electronics   1200   East\n"
     ]
    }
   ],
   "source": [
    "# Iterate through groups and print group names and their contents\n",
    "grouped = df.groupby(\"Category\")\n",
    "\n",
    "print(\"Iterating through groups:\")\n",
    "for group_name, group_data in grouped:\n",
    "    print(f\"\\nGroup: {group_name}\")\n",
    "    print(group_data)"
   ]
  },
  {
   "cell_type": "code",
   "execution_count": 23,
   "metadata": {},
   "outputs": [
    {
     "name": "stdout",
     "output_type": "stream",
     "text": [
      "DataFrame with Category Percentage:\n",
      "      Category  Sales Region  Category_Percentage\n",
      "0  Electronics   1000   East            33.333333\n",
      "1     Clothing    500   West            62.500000\n",
      "2  Electronics    800   East            26.666667\n",
      "3     Clothing    300   West            37.500000\n",
      "4  Electronics   1200   East            40.000000\n"
     ]
    }
   ],
   "source": [
    "# Calculate the percentage of sales within each category\n",
    "df[\"Category_Percentage\"] = df.groupby(\"Category\")[\"Sales\"].transform(lambda x: x / x.sum() * 100) # lambdas are like on-the-fly functions\n",
    "\n",
    "print(\"DataFrame with Category Percentage:\")\n",
    "print(df)"
   ]
  },
  {
   "cell_type": "code",
   "execution_count": 24,
   "metadata": {},
   "outputs": [
    {
     "name": "stdout",
     "output_type": "stream",
     "text": [
      "DataFrame with Category Percentage:\n",
      "      Category  Sales Region  Category_Percentage\n",
      "0  Electronics   1000   East            33.333333\n",
      "1     Clothing    500   West            62.500000\n",
      "2  Electronics    800   East            26.666667\n",
      "3     Clothing    300   West            37.500000\n",
      "4  Electronics   1200   East            40.000000\n"
     ]
    }
   ],
   "source": [
    "# Equivalently to above:\n",
    "def percentage(x):\n",
    "    return x / x.sum() * 100\n",
    "\n",
    "df[\"Category_Percentage\"] = df.groupby(\"Category\")[\"Sales\"].transform(percentage)\n",
    "\n",
    "print(\"DataFrame with Category Percentage:\")\n",
    "print(df)"
   ]
  },
  {
   "cell_type": "code",
   "execution_count": 25,
   "metadata": {},
   "outputs": [
    {
     "name": "stdout",
     "output_type": "stream",
     "text": [
      "Range of Sales by Category:\n",
      "Category\n",
      "Clothing       200\n",
      "Electronics    400\n",
      "dtype: int64\n"
     ]
    }
   ],
   "source": [
    "# Define a custom function to calculate the range (max - min) of sales within each category\n",
    "def sales_range(group):\n",
    "    return group[\"Sales\"].max() - group[\"Sales\"].min()\n",
    "\n",
    "sales_range_by_category = df.groupby(\"Category\")[df.columns].apply(sales_range)\n",
    "\n",
    "print(\"Range of Sales by Category:\")\n",
    "print(sales_range_by_category)"
   ]
  },
  {
   "cell_type": "markdown",
   "metadata": {},
   "source": [
    "### Exercise\n",
    "\n",
    "Once again, just play with the data in the above examples, or translate them into your own examples, until you feel you have a grasp of the concepts involved.\n",
    "\n",
    "Ask yourself questions like \"How can I find the mean salary of staff members in a certain age range, in a certain department?\", then make or find some appropriate data, imagine a solution, and try it out!\n",
    "\n",
    "When it doesn't work (which it almost never does, the first time) look up the error, and look up how to do what you're trying to do in the most generalised way you can think of. For that example a search term might look like \"mean of sub-group pandas\" and you might find something like <a href=\"https://stackoverflow.com/questions/49245451/how-to-calculate-average-on-a-subset-of-a-subset-of-a-dataframe-in-python\">this StackOverflow question</a>, which can help you! \n",
    "\n",
    "StackOverflow in particular is your friend when looking up things about Python"
   ]
  },
  {
   "cell_type": "code",
   "execution_count": 26,
   "metadata": {},
   "outputs": [],
   "source": [
    "# Put your working here (Esc > 'b' to add more cells)"
   ]
  },
  {
   "cell_type": "markdown",
   "metadata": {},
   "source": [
    "## String `Series` and time `Series`\n",
    "\n",
    "Pandas provides special methods for working with string data and time data, since they are not strictly numerical. This section will look at some of what you can do with these types of data in Pandas."
   ]
  },
  {
   "cell_type": "markdown",
   "metadata": {},
   "source": [
    "### Strings"
   ]
  },
  {
   "cell_type": "code",
   "execution_count": 27,
   "metadata": {},
   "outputs": [
    {
     "name": "stdout",
     "output_type": "stream",
     "text": [
      "Sample DataFrame:\n",
      "            Name         City\n",
      "0    Alice Smith     New York\n",
      "1    Bob Johnson  Los Angeles\n",
      "2  Charlie Brown      Chicago\n",
      "3   David Wilson      Houston\n"
     ]
    }
   ],
   "source": [
    "import pandas as pd # import again in case the last section hasn't been run\n",
    "\n",
    "# Create a sample DataFrame with textual data\n",
    "data = {\n",
    "    \"Name\": [\"Alice Smith\", \"Bob Johnson\", \"Charlie Brown\", \"David Wilson\"],\n",
    "    \"City\": [\"New York\", \"Los Angeles\", \"Chicago\", \"Houston\"]\n",
    "}\n",
    "\n",
    "df = pd.DataFrame(data)\n",
    "\n",
    "print(\"Sample DataFrame:\")\n",
    "print(df)\n"
   ]
  },
  {
   "cell_type": "code",
   "execution_count": 28,
   "metadata": {},
   "outputs": [
    {
     "name": "stdout",
     "output_type": "stream",
     "text": [
      "DataFrame with String Manipulations:\n",
      "            Name         City     Name_Upper First_Name\n",
      "0    Alice Smith     New York    ALICE SMITH      Alice\n",
      "1    Bob Johnson  Los Angeles    BOB JOHNSON        Bob\n",
      "2  Charlie Brown      Chicago  CHARLIE BROWN    Charlie\n",
      "3   David Wilson      Houston   DAVID WILSON      David\n"
     ]
    }
   ],
   "source": [
    "# Convert all names to uppercase\n",
    "df[\"Name_Upper\"] = df[\"Name\"].str.upper()\n",
    "\n",
    "# Extract the first name (text before the space)\n",
    "df[\"First_Name\"] = df[\"Name\"].str.split(\" \").str[0]\n",
    "\n",
    "print(\"DataFrame with String Manipulations:\")\n",
    "print(df)"
   ]
  },
  {
   "cell_type": "code",
   "execution_count": 29,
   "metadata": {},
   "outputs": [
    {
     "name": "stdout",
     "output_type": "stream",
     "text": [
      "DataFrame with Conditional String Operations:\n",
      "            Name         City     Name_Upper First_Name  City_Starts_C\n",
      "0    Alice Smith     New York    ALICE SMITH      Alice          False\n",
      "1    Bob Johnson  Los Angeles    BOB JOHNSON        Bob          False\n",
      "2  Charlie Brown      Chicago  CHARLIE BROWN    Charlie           True\n",
      "3   David Wilson      Houston   DAVID WILSON      David          False\n"
     ]
    }
   ],
   "source": [
    "# Check if the city name starts with 'C'\n",
    "df[\"City_Starts_C\"] = df[\"City\"].str.startswith(\"C\")\n",
    "\n",
    "print(\"DataFrame with Conditional String Operations:\")\n",
    "print(df)"
   ]
  },
  {
   "cell_type": "code",
   "execution_count": 30,
   "metadata": {},
   "outputs": [
    {
     "name": "stdout",
     "output_type": "stream",
     "text": [
      "DataFrame with Text Replacement:\n",
      "            Name         City     Name_Upper First_Name  City_Starts_C  \\\n",
      "0    Alice Smith     New York    ALICE SMITH      Alice          False   \n",
      "1    Bob Johnson  Los Angeles    BOB JOHNSON        Bob          False   \n",
      "2  Charlie Brown      Chicago  CHARLIE BROWN    Charlie           True   \n",
      "3   David Wilson      Houston   DAVID WILSON      David          False   \n",
      "\n",
      "  City_Replaced  \n",
      "0           NYC  \n",
      "1   Los Angeles  \n",
      "2       Chicago  \n",
      "3       Houston  \n"
     ]
    }
   ],
   "source": [
    "# Replace 'New York' with 'NYC'\n",
    "df[\"City_Replaced\"] = df[\"City\"].str.replace(\"New York\", \"NYC\")\n",
    "\n",
    "print(\"DataFrame with Text Replacement:\")\n",
    "print(df)"
   ]
  },
  {
   "cell_type": "markdown",
   "metadata": {},
   "source": [
    "### Time"
   ]
  },
  {
   "cell_type": "code",
   "execution_count": 31,
   "metadata": {},
   "outputs": [
    {
     "name": "stdout",
     "output_type": "stream",
     "text": [
      "Sample DateTime DataFrame:\n",
      "    Event       Date\n",
      "0   Start 2025-03-01\n",
      "1  Middle 2025-03-14\n",
      "2     End 2025-03-31\n"
     ]
    }
   ],
   "source": [
    "# Create a sample DataFrame with datetime data\n",
    "date_data = {\n",
    "    \"Event\": [\"Start\", \"Middle\", \"End\"],\n",
    "    \"Date\": pd.to_datetime([\"2025-03-01\", \"2025-03-14\", \"2025-03-31\"])\n",
    "}\n",
    "\n",
    "df_date = pd.DataFrame(date_data)\n",
    "\n",
    "print(\"Sample DateTime DataFrame:\")\n",
    "print(df_date)"
   ]
  },
  {
   "cell_type": "code",
   "execution_count": 32,
   "metadata": {},
   "outputs": [
    {
     "name": "stdout",
     "output_type": "stream",
     "text": [
      "DataFrame with Extracted Date Components:\n",
      "    Event       Date  Year  Month  Day\n",
      "0   Start 2025-03-01  2025      3    1\n",
      "1  Middle 2025-03-14  2025      3   14\n",
      "2     End 2025-03-31  2025      3   31\n"
     ]
    }
   ],
   "source": [
    "# Extract year, month, and day from the Date column\n",
    "df_date[\"Year\"] = df_date[\"Date\"].dt.year\n",
    "df_date[\"Month\"] = df_date[\"Date\"].dt.month\n",
    "df_date[\"Day\"] = df_date[\"Date\"].dt.day\n",
    "# dt stands for 'datetime'\n",
    "print(\"DataFrame with Extracted Date Components:\")\n",
    "print(df_date)"
   ]
  },
  {
   "cell_type": "code",
   "execution_count": 33,
   "metadata": {},
   "outputs": [
    {
     "name": "stdout",
     "output_type": "stream",
     "text": [
      "DataFrame with Extracted Time Components:\n",
      "    Event       Date  Year  Month  Day            DateTime  Hour  Minute\n",
      "0   Start 2025-03-01  2025      3    1 2025-03-01 08:00:00     8       0\n",
      "1  Middle 2025-03-14  2025      3   14 2025-03-14 12:30:00    12      30\n",
      "2     End 2025-03-31  2025      3   31 2025-03-31 18:45:00    18      45\n"
     ]
    }
   ],
   "source": [
    "# Create a new column with datetime including time for demonstration\n",
    "df_date[\"DateTime\"] = pd.to_datetime([\"2025-03-01 08:00:00\", \"2025-03-14 12:30:00\", \"2025-03-31 18:45:00\"])\n",
    "\n",
    "# Extract hour and minute from the DateTime column\n",
    "df_date[\"Hour\"] = df_date[\"DateTime\"].dt.hour\n",
    "df_date[\"Minute\"] = df_date[\"DateTime\"].dt.minute\n",
    "\n",
    "print(\"DataFrame with Extracted Time Components:\")\n",
    "print(df_date)"
   ]
  },
  {
   "cell_type": "code",
   "execution_count": 34,
   "metadata": {},
   "outputs": [
    {
     "name": "stdout",
     "output_type": "stream",
     "text": [
      "Filtered DataFrame (Dates after March 10, 2025):\n",
      "    Event       Date  Year  Month  Day            DateTime  Hour  Minute\n",
      "1  Middle 2025-03-14  2025      3   14 2025-03-14 12:30:00    12      30\n",
      "2     End 2025-03-31  2025      3   31 2025-03-31 18:45:00    18      45\n"
     ]
    }
   ],
   "source": [
    "# Filter rows where the date is after March 10, 2025\n",
    "filtered_df = df_date[df_date[\"Date\"] > pd.Timestamp(\"2025-03-10\")]\n",
    "\n",
    "print(\"Filtered DataFrame (Dates after March 10, 2025):\")\n",
    "print(filtered_df)"
   ]
  },
  {
   "cell_type": "markdown",
   "metadata": {},
   "source": [
    "### Exercise\n",
    "\n",
    "Once again, make sure you understand what is happening in the above examples by changing them or creating your own examples. If you were given a table of text from social media posts along with the date and time, could you find the hour of the day, or the day of the month, in which the posts posts made contain the greatest proportion of profanity/swear words (given also a list of swear words, of course)?\n",
    "\n",
    "You have now been given all the tools to do so, so try to imagine how, and test it on a small example! Mo need to use real bad language of course - 'cabbage' is a good replacement. As always, use the internet for help if it gets difficult or you get confused."
   ]
  },
  {
   "cell_type": "code",
   "execution_count": 35,
   "metadata": {},
   "outputs": [],
   "source": [
    "# Put your working here (Esc > 'b' to add more cells)"
   ]
  }
 ],
 "metadata": {
  "kernelspec": {
   "display_name": "eda",
   "language": "python",
   "name": "python3"
  },
  "language_info": {
   "codemirror_mode": {
    "name": "ipython",
    "version": 3
   },
   "file_extension": ".py",
   "mimetype": "text/x-python",
   "name": "python",
   "nbconvert_exporter": "python",
   "pygments_lexer": "ipython3",
   "version": "3.12.7"
  }
 },
 "nbformat": 4,
 "nbformat_minor": 2
}
