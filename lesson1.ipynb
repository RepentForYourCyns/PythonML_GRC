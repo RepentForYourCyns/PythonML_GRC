{
 "cells": [
  {
   "cell_type": "markdown",
   "metadata": {},
   "source": [
    "# Lesson 1\n",
    "\n",
    "## Python\n",
    "\n",
    "- ‘Two-language’ problem (scientific vs machine-friendly)\n",
    "- Readable, popular, and (un)officially well-documented\n",
    "- A package for almost anything – or easy to make one!\n"
   ]
  },
  {
   "cell_type": "markdown",
   "metadata": {},
   "source": [
    "### Jupyter Tips\n",
    "\n",
    "- The interface you are using right now is called a Jupyter Notebook\n",
    "- It is divided into cells\n",
    "- Cells are either Python or markdown\n",
    "- Markdown is text with very simple formatting (titles, bullet points, etc.)\n",
    "- This cell is markdown\n",
    "- With any cell selected, up and down arrow keys will select cells above and below\n",
    "- With any cell selected, enter key will enter the cursor into that cell\n",
    "- The cursor is different to the mouse; the mouse is what you click with, the cursor is what you type with\n",
    "- With cursor inside any cell, markdown or Python will be shown in the bottom-right. Python cells will show this even without cursor inside\n",
    "- With cursor inside any cell, 'esc' to exit the cursor from the cell and select that cell\n",
    "- With any cell selected, press 'a' to create a Python cell above and 'b' to create a Python cell below\n",
    "- With any Python cell selected, press 'm' to turn it into a markdown cell\n",
    "- Any cell(s) selected can be copied, cut and paste using 'c', 'x' and 'v' (Ctrl/Cmd not necessary)\n",
    "- Cells can be run with Ctrl+Enter (Shift+Enter to run and select next cell)\n",
    "- Running a markdown cell will compile and display it\n",
    "- Running a Python cell will run all the Python inside it and show the value of  the last line. Beware that a variable assignment statement does not have a value: you will need to state the variable name on its own to get its value\n",
    "- You can also drag cells around with your mouse, and interact using your mouse in a variety of ways\n",
    "- The Jupyter interface is very forgiving and not as complicated as Microsoft Office or others which you are used to using. Play around and see what it can do! It (almost certainly) will not break\n",
    "- Having your cursor inside a cell is not the same as having a cell selected! (The same shortcuts will not work)"
   ]
  },
  {
   "cell_type": "markdown",
   "metadata": {},
   "source": [
    "### Variables and Objects\n",
    "\n",
    "- A variable is a symbol for a value\n",
    "- Everything in Python is an object – objects have types, but variables’ types are flexible\n",
    "\n",
    "Comments:\n",
    "You can add comments to code with ‘#’ – what comes after is not Python anymore\n",
    "\n",
    "- Common types include:\n",
    "    - Numeric: Integers and Floats\n",
    "    - Strings (writing)\n",
    "    - Booleans (True or False)\n",
    "    - Lists\n",
    "    - Tuples\n",
    "    - Dictionaries\n",
    "    - None (null/nothing)\n"
   ]
  },
  {
   "cell_type": "code",
   "execution_count": null,
   "metadata": {},
   "outputs": [
    {
     "data": {
      "text/plain": [
       "'two'"
      ]
     },
     "execution_count": 1,
     "metadata": {},
     "output_type": "execute_result"
    }
   ],
   "source": [
    "age_str = 'two' # 'two' is a string\n",
    "age_str"
   ]
  },
  {
   "cell_type": "code",
   "execution_count": 1,
   "metadata": {},
   "outputs": [
    {
     "data": {
      "text/plain": [
       "'2'"
      ]
     },
     "execution_count": 1,
     "metadata": {},
     "output_type": "execute_result"
    }
   ],
   "source": [
    "two_str = '2' # '2' is also a string\n",
    "two_str"
   ]
  },
  {
   "cell_type": "code",
   "execution_count": 2,
   "metadata": {},
   "outputs": [
    {
     "data": {
      "text/plain": [
       "2.0833333333333335"
      ]
     },
     "execution_count": 2,
     "metadata": {},
     "output_type": "execute_result"
    }
   ],
   "source": [
    "age_months = 25 # 25 is an integer\n",
    "age_years = age_months / 12 # 25 / 12 will be a float\n",
    "\n",
    "age_years"
   ]
  },
  {
   "cell_type": "code",
   "execution_count": 3,
   "metadata": {},
   "outputs": [
    {
     "data": {
      "text/plain": [
       "False"
      ]
     },
     "execution_count": 3,
     "metadata": {},
     "output_type": "execute_result"
    }
   ],
   "source": [
    "over_18 = age_years > 18 # age > 18 will be a boolean\n",
    "over_18"
   ]
  },
  {
   "cell_type": "code",
   "execution_count": 4,
   "metadata": {},
   "outputs": [
    {
     "name": "stdout",
     "output_type": "stream",
     "text": [
      "2\n"
     ]
    },
    {
     "ename": "NameError",
     "evalue": "name 'age_str' is not defined",
     "output_type": "error",
     "traceback": [
      "\u001b[0;31m---------------------------------------------------------------------------\u001b[0m",
      "\u001b[0;31mNameError\u001b[0m                                 Traceback (most recent call last)",
      "Cell \u001b[0;32mIn[4], line 3\u001b[0m\n\u001b[1;32m      1\u001b[0m \u001b[38;5;66;03m# jupyter prints the last line automatically, but if you need to see more than that, use print()\u001b[39;00m\n\u001b[1;32m      2\u001b[0m \u001b[38;5;28mprint\u001b[39m(two_str)\n\u001b[0;32m----> 3\u001b[0m \u001b[38;5;28mprint\u001b[39m(age_str)\n",
      "\u001b[0;31mNameError\u001b[0m: name 'age_str' is not defined"
     ]
    }
   ],
   "source": [
    "# jupyter prints the last line automatically, but if you need to see more than that, use print()\n",
    "print(two_str)\n",
    "print(age_str)"
   ]
  },
  {
   "cell_type": "code",
   "execution_count": 5,
   "metadata": {},
   "outputs": [
    {
     "name": "stdout",
     "output_type": "stream",
     "text": [
      "True\n"
     ]
    }
   ],
   "source": [
    "# get used to the difference between = and ==\n",
    "print(two_str == '2')\n",
    "# = is variable assignment whereas == means \"are these two thing equal?\" as a question"
   ]
  },
  {
   "cell_type": "code",
   "execution_count": 6,
   "metadata": {},
   "outputs": [
    {
     "data": {
      "text/plain": [
       "bool"
      ]
     },
     "execution_count": 6,
     "metadata": {},
     "output_type": "execute_result"
    }
   ],
   "source": [
    "# we can get the type of any object\n",
    "type(over_18)"
   ]
  },
  {
   "cell_type": "code",
   "execution_count": 7,
   "metadata": {},
   "outputs": [
    {
     "data": {
      "text/plain": [
       "float"
      ]
     },
     "execution_count": 7,
     "metadata": {},
     "output_type": "execute_result"
    }
   ],
   "source": [
    "type(age_years)"
   ]
  },
  {
   "cell_type": "code",
   "execution_count": 8,
   "metadata": {},
   "outputs": [
    {
     "data": {
      "text/plain": [
       "int"
      ]
     },
     "execution_count": 8,
     "metadata": {},
     "output_type": "execute_result"
    }
   ],
   "source": [
    "type(age_months)"
   ]
  },
  {
   "cell_type": "code",
   "execution_count": 9,
   "metadata": {},
   "outputs": [
    {
     "data": {
      "text/plain": [
       "2"
      ]
     },
     "execution_count": 9,
     "metadata": {},
     "output_type": "execute_result"
    }
   ],
   "source": [
    "int(two_str) # we can 'cast' Python types into other types, when it makes sense"
   ]
  },
  {
   "cell_type": "code",
   "execution_count": 10,
   "metadata": {},
   "outputs": [
    {
     "data": {
      "text/plain": [
       "'2'"
      ]
     },
     "execution_count": 10,
     "metadata": {},
     "output_type": "execute_result"
    }
   ],
   "source": [
    "str(2)"
   ]
  },
  {
   "cell_type": "code",
   "execution_count": 11,
   "metadata": {},
   "outputs": [
    {
     "data": {
      "text/plain": [
       "2.0"
      ]
     },
     "execution_count": 11,
     "metadata": {},
     "output_type": "execute_result"
    }
   ],
   "source": [
    "float(int(two_str))"
   ]
  },
  {
   "cell_type": "code",
   "execution_count": 12,
   "metadata": {},
   "outputs": [
    {
     "data": {
      "text/plain": [
       "True"
      ]
     },
     "execution_count": 12,
     "metadata": {},
     "output_type": "execute_result"
    }
   ],
   "source": [
    "bool(\"Something\") # be careful of casting booleans - almost any data is True"
   ]
  },
  {
   "cell_type": "code",
   "execution_count": 13,
   "metadata": {},
   "outputs": [
    {
     "data": {
      "text/plain": [
       "True"
      ]
     },
     "execution_count": 13,
     "metadata": {},
     "output_type": "execute_result"
    }
   ],
   "source": [
    "bool(4.0)"
   ]
  },
  {
   "cell_type": "code",
   "execution_count": 14,
   "metadata": {},
   "outputs": [
    {
     "data": {
      "text/plain": [
       "False"
      ]
     },
     "execution_count": 14,
     "metadata": {},
     "output_type": "execute_result"
    }
   ],
   "source": [
    "bool(None) # only an absence of data, or a zero, is False as a boolean"
   ]
  },
  {
   "cell_type": "code",
   "execution_count": 15,
   "metadata": {},
   "outputs": [
    {
     "data": {
      "text/plain": [
       "False"
      ]
     },
     "execution_count": 15,
     "metadata": {},
     "output_type": "execute_result"
    }
   ],
   "source": [
    "bool(0) # 0 is also False so that binary works: 1 - True, 0 - False"
   ]
  },
  {
   "cell_type": "code",
   "execution_count": 16,
   "metadata": {},
   "outputs": [
    {
     "ename": "ValueError",
     "evalue": "invalid literal for int() with base 10: 'I am not an integer'",
     "output_type": "error",
     "traceback": [
      "\u001b[0;31m---------------------------------------------------------------------------\u001b[0m",
      "\u001b[0;31mValueError\u001b[0m                                Traceback (most recent call last)",
      "Cell \u001b[0;32mIn[16], line 2\u001b[0m\n\u001b[1;32m      1\u001b[0m \u001b[38;5;66;03m# we can't cast types when it doesn't make sense\u001b[39;00m\n\u001b[0;32m----> 2\u001b[0m \u001b[38;5;28mint\u001b[39m(\u001b[38;5;124m\"\u001b[39m\u001b[38;5;124mI am not an integer\u001b[39m\u001b[38;5;124m\"\u001b[39m)\n",
      "\u001b[0;31mValueError\u001b[0m: invalid literal for int() with base 10: 'I am not an integer'"
     ]
    }
   ],
   "source": [
    "# we can't cast types when it doesn't make sense\n",
    "int(\"I am not an integer\")"
   ]
  },
  {
   "cell_type": "code",
   "execution_count": 17,
   "metadata": {},
   "outputs": [
    {
     "data": {
      "text/plain": [
       "'I am older than 25 months old'"
      ]
     },
     "execution_count": 17,
     "metadata": {},
     "output_type": "execute_result"
    }
   ],
   "source": [
    "# f-strings allow you to put variables in strings (formatting)\n",
    "\n",
    "f\"I am older than {age_months} months old\""
   ]
  },
  {
   "cell_type": "code",
   "execution_count": 18,
   "metadata": {},
   "outputs": [
    {
     "ename": "NameError",
     "evalue": "name 'age_str' is not defined",
     "output_type": "error",
     "traceback": [
      "\u001b[0;31m---------------------------------------------------------------------------\u001b[0m",
      "\u001b[0;31mNameError\u001b[0m                                 Traceback (most recent call last)",
      "Cell \u001b[0;32mIn[18], line 2\u001b[0m\n\u001b[1;32m      1\u001b[0m \u001b[38;5;66;03m# we can get the length of a string with len()\u001b[39;00m\n\u001b[0;32m----> 2\u001b[0m \u001b[38;5;28mlen\u001b[39m(age_str)\n",
      "\u001b[0;31mNameError\u001b[0m: name 'age_str' is not defined"
     ]
    }
   ],
   "source": [
    "# we can get the length of a string with len()\n",
    "len(age_str)"
   ]
  },
  {
   "cell_type": "markdown",
   "metadata": {},
   "source": [
    "#### Exercises\n",
    "\n",
    "Using the above as hints:\n",
    "\n",
    "1. Write someone's first name into a variable.\n",
    "    1. Get the number of letters in it. \n",
    "    2. Look up how to turn the `string` into all capital letters, or all lowercase letters.\n",
    "2. Write a full name (with at least one space between first and last)\n",
    "    1. Look up how to 'split' the `string` where the spaces are so that you have the first and last (and any more) names separately.\n",
    "    2. Now, use what you have learned so far to get the total number of letters in the name not counting the space!\n",
    "3. Look up how to take one number to the power of another, and do so with any pair of numbers\n",
    "4. Try all of the basic arithmetic operations (division, multiplication, etc.) on strings and integers, and try also with one string and one integer variable. Which ones work and which ones throw errors? Think about why it makes sense to do some operations and not to do others"
   ]
  },
  {
   "cell_type": "code",
   "execution_count": null,
   "metadata": {},
   "outputs": [],
   "source": [
    "# Put your answers here (Esc > 'b' to add more cells)"
   ]
  },
  {
   "cell_type": "markdown",
   "metadata": {},
   "source": [
    "### Collections and Mutability\n",
    "\n",
    "- A collection is any type which is designed to hold other objects: e.g. lists, tuples and dictionaries\n",
    "- Mutable means changeable – some collections let you change which objects they hold (lists and dictionaries), others are frozen on creation (tuples)\n",
    "- Lists and tuples are ordered and are indexed from 0 to the end\n",
    "- Dictionaries have no order (unlike a real dictionary!) and you do the indexing\n"
   ]
  },
  {
   "cell_type": "code",
   "execution_count": null,
   "metadata": {},
   "outputs": [
    {
     "data": {
      "text/plain": [
       "['I', 'am', 'a', 'list']"
      ]
     },
     "execution_count": 21,
     "metadata": {},
     "output_type": "execute_result"
    }
   ],
   "source": [
    "my_list = ['I', 'am', 'a', 'list'] # square brackets create lists\n",
    "my_list"
   ]
  },
  {
   "cell_type": "code",
   "execution_count": 19,
   "metadata": {},
   "outputs": [
    {
     "ename": "NameError",
     "evalue": "name 'my_list' is not defined",
     "output_type": "error",
     "traceback": [
      "\u001b[0;31m---------------------------------------------------------------------------\u001b[0m",
      "\u001b[0;31mNameError\u001b[0m                                 Traceback (most recent call last)",
      "Cell \u001b[0;32mIn[19], line 1\u001b[0m\n\u001b[0;32m----> 1\u001b[0m my_list[\u001b[38;5;241m3\u001b[39m]\n",
      "\u001b[0;31mNameError\u001b[0m: name 'my_list' is not defined"
     ]
    }
   ],
   "source": [
    "my_list[3]"
   ]
  },
  {
   "cell_type": "code",
   "execution_count": 20,
   "metadata": {},
   "outputs": [
    {
     "ename": "NameError",
     "evalue": "name 'my_list' is not defined",
     "output_type": "error",
     "traceback": [
      "\u001b[0;31m---------------------------------------------------------------------------\u001b[0m",
      "\u001b[0;31mNameError\u001b[0m                                 Traceback (most recent call last)",
      "Cell \u001b[0;32mIn[20], line 1\u001b[0m\n\u001b[0;32m----> 1\u001b[0m \u001b[38;5;28mlen\u001b[39m(my_list)\n",
      "\u001b[0;31mNameError\u001b[0m: name 'my_list' is not defined"
     ]
    }
   ],
   "source": [
    "len(my_list)"
   ]
  },
  {
   "cell_type": "code",
   "execution_count": 21,
   "metadata": {},
   "outputs": [
    {
     "ename": "NameError",
     "evalue": "name 'my_list' is not defined",
     "output_type": "error",
     "traceback": [
      "\u001b[0;31m---------------------------------------------------------------------------\u001b[0m",
      "\u001b[0;31mNameError\u001b[0m                                 Traceback (most recent call last)",
      "Cell \u001b[0;32mIn[21], line 2\u001b[0m\n\u001b[1;32m      1\u001b[0m \u001b[38;5;66;03m# list example\u001b[39;00m\n\u001b[0;32m----> 2\u001b[0m my_list[\u001b[38;5;241m0\u001b[39m] \u001b[38;5;241m=\u001b[39m \u001b[38;5;124m'\u001b[39m\u001b[38;5;124mThis\u001b[39m\u001b[38;5;124m'\u001b[39m \u001b[38;5;66;03m# indexing starts at 0 (0-indexing)\u001b[39;00m\n\u001b[1;32m      3\u001b[0m my_list[\u001b[38;5;241m1\u001b[39m] \u001b[38;5;241m=\u001b[39m \u001b[38;5;124m'\u001b[39m\u001b[38;5;124mis\u001b[39m\u001b[38;5;124m'\u001b[39m\n\u001b[1;32m      4\u001b[0m my_list\n",
      "\u001b[0;31mNameError\u001b[0m: name 'my_list' is not defined"
     ]
    }
   ],
   "source": [
    "# list example\n",
    "my_list[0] = 'This' # indexing starts at 0 (0-indexing)\n",
    "my_list[1] = 'is'\n",
    "my_list"
   ]
  },
  {
   "cell_type": "code",
   "execution_count": null,
   "metadata": {},
   "outputs": [
    {
     "data": {
      "text/plain": [
       "'This'"
      ]
     },
     "execution_count": 25,
     "metadata": {},
     "output_type": "execute_result"
    }
   ],
   "source": [
    "my_list[0]"
   ]
  },
  {
   "cell_type": "code",
   "execution_count": 22,
   "metadata": {},
   "outputs": [
    {
     "ename": "NameError",
     "evalue": "name 'my_list' is not defined",
     "output_type": "error",
     "traceback": [
      "\u001b[0;31m---------------------------------------------------------------------------\u001b[0m",
      "\u001b[0;31mNameError\u001b[0m                                 Traceback (most recent call last)",
      "Cell \u001b[0;32mIn[22], line 1\u001b[0m\n\u001b[0;32m----> 1\u001b[0m my_list\u001b[38;5;241m.\u001b[39mappend(\u001b[38;5;124m'\u001b[39m\u001b[38;5;124mwith\u001b[39m\u001b[38;5;124m'\u001b[39m) \u001b[38;5;66;03m# add to a list with the append method\u001b[39;00m\n\u001b[1;32m      2\u001b[0m my_list\u001b[38;5;241m.\u001b[39mappend(\u001b[38;5;124m'\u001b[39m\u001b[38;5;124mextra\u001b[39m\u001b[38;5;124m'\u001b[39m) \u001b[38;5;66;03m# note that we do not need to assign using =\u001b[39;00m\n\u001b[1;32m      3\u001b[0m my_list\u001b[38;5;241m.\u001b[39mappend(\u001b[38;5;124m'\u001b[39m\u001b[38;5;124melements\u001b[39m\u001b[38;5;124m'\u001b[39m)\n",
      "\u001b[0;31mNameError\u001b[0m: name 'my_list' is not defined"
     ]
    }
   ],
   "source": [
    "my_list.append('with') # add to a list with the append method\n",
    "my_list.append('extra') # note that we do not need to assign using =\n",
    "my_list.append('elements')\n",
    "\n",
    "my_list"
   ]
  },
  {
   "cell_type": "code",
   "execution_count": null,
   "metadata": {},
   "outputs": [
    {
     "data": {
      "text/plain": [
       "{'A': 'alpha', 'B': 'bravo', 'C': 'charlie'}"
      ]
     },
     "execution_count": 27,
     "metadata": {},
     "output_type": "execute_result"
    }
   ],
   "source": [
    "# dictionary example\n",
    "my_dict = {'A': 'alpha', 'B': 'bravo'} # curly brackets create dictionaries\n",
    "my_dict['C'] = 'charlie' # adding a new key-value pair\n",
    "my_dict"
   ]
  },
  {
   "cell_type": "code",
   "execution_count": null,
   "metadata": {},
   "outputs": [
    {
     "data": {
      "text/plain": [
       "'charlie'"
      ]
     },
     "execution_count": 28,
     "metadata": {},
     "output_type": "execute_result"
    }
   ],
   "source": [
    "# here, we call C the 'key' (which is slightly different to an index,\n",
    "# mainly because it cannot be sliced) and charlie the 'value'\n",
    "my_dict['C']"
   ]
  },
  {
   "cell_type": "code",
   "execution_count": 23,
   "metadata": {},
   "outputs": [
    {
     "ename": "TypeError",
     "evalue": "'tuple' object does not support item assignment",
     "output_type": "error",
     "traceback": [
      "\u001b[0;31m---------------------------------------------------------------------------\u001b[0m",
      "\u001b[0;31mTypeError\u001b[0m                                 Traceback (most recent call last)",
      "Cell \u001b[0;32mIn[23], line 3\u001b[0m\n\u001b[1;32m      1\u001b[0m \u001b[38;5;66;03m# tuple example\u001b[39;00m\n\u001b[1;32m      2\u001b[0m my_tup \u001b[38;5;241m=\u001b[39m (\u001b[38;5;124m'\u001b[39m\u001b[38;5;124mI\u001b[39m\u001b[38;5;124m'\u001b[39m, \u001b[38;5;124m'\u001b[39m\u001b[38;5;124mam\u001b[39m\u001b[38;5;124m'\u001b[39m, \u001b[38;5;124m'\u001b[39m\u001b[38;5;124mimmutable\u001b[39m\u001b[38;5;124m'\u001b[39m)\n\u001b[0;32m----> 3\u001b[0m my_tup[\u001b[38;5;241m2\u001b[39m] \u001b[38;5;241m=\u001b[39m \u001b[38;5;124m'\u001b[39m\u001b[38;5;124mmutable\u001b[39m\u001b[38;5;124m'\u001b[39m\n",
      "\u001b[0;31mTypeError\u001b[0m: 'tuple' object does not support item assignment"
     ]
    }
   ],
   "source": [
    "# tuple example\n",
    "my_tup = ('I', 'am', 'immutable')\n",
    "my_tup[2] = 'mutable' # this will throw an error"
   ]
  },
  {
   "cell_type": "code",
   "execution_count": null,
   "metadata": {},
   "outputs": [
    {
     "data": {
      "text/plain": [
       "('I', 'am', 'a', 'tuple')"
      ]
     },
     "execution_count": 30,
     "metadata": {},
     "output_type": "execute_result"
    }
   ],
   "source": [
    "# two or more items separated by commas are automatically a tuple\n",
    "new_tup = 'I', 'am', 'a', 'tuple'\n",
    "new_tup"
   ]
  },
  {
   "cell_type": "code",
   "execution_count": null,
   "metadata": {},
   "outputs": [
    {
     "data": {
      "text/plain": [
       "(('I', 'am', 'immutable'), ('I', 'am', 'a', 'tuple'))"
      ]
     },
     "execution_count": 31,
     "metadata": {},
     "output_type": "execute_result"
    }
   ],
   "source": [
    "# this can also be useful for showing multiple values on the last line of a cell:\n",
    "my_tup, new_tup"
   ]
  },
  {
   "cell_type": "code",
   "execution_count": null,
   "metadata": {},
   "outputs": [
    {
     "data": {
      "text/plain": [
       "[0, 1, 2, 3, 4, 5, 6, 7, 8, 9]"
      ]
     },
     "execution_count": 32,
     "metadata": {},
     "output_type": "execute_result"
    }
   ],
   "source": [
    "# if you need to get a series of increasing integers, you can use range() and cast it to a list\n",
    "list(range(10))"
   ]
  },
  {
   "cell_type": "code",
   "execution_count": null,
   "metadata": {},
   "outputs": [
    {
     "data": {
      "text/plain": [
       "[5, 6, 7, 8, 9]"
      ]
     },
     "execution_count": 33,
     "metadata": {},
     "output_type": "execute_result"
    }
   ],
   "source": [
    "list(range(5, 10))"
   ]
  },
  {
   "cell_type": "code",
   "execution_count": 24,
   "metadata": {},
   "outputs": [
    {
     "data": {
      "text/plain": [
       "6.5"
      ]
     },
     "execution_count": 24,
     "metadata": {},
     "output_type": "execute_result"
    }
   ],
   "source": [
    "# you can sum and get the max and min of numerical lists\n",
    "sum([1, 2.5, 3])"
   ]
  },
  {
   "cell_type": "code",
   "execution_count": 25,
   "metadata": {},
   "outputs": [
    {
     "data": {
      "text/plain": [
       "9"
      ]
     },
     "execution_count": 25,
     "metadata": {},
     "output_type": "execute_result"
    }
   ],
   "source": [
    "max([9, 7, 8])"
   ]
  },
  {
   "cell_type": "code",
   "execution_count": 26,
   "metadata": {},
   "outputs": [
    {
     "data": {
      "text/plain": [
       "7"
      ]
     },
     "execution_count": 26,
     "metadata": {},
     "output_type": "execute_result"
    }
   ],
   "source": [
    "min([9, 7, 8])"
   ]
  },
  {
   "cell_type": "markdown",
   "metadata": {},
   "source": [
    "#### Exercises\n",
    "\n",
    "Using the above as hints:\n",
    "\n",
    "1. Write some numbers into a list and use `sorted()` to sort them. Look up how to get them in reverse order!\n",
    "2. Write a numerical list (including both integers and floats) and calculate the mean of those numbers from the list\n",
    "3. Create a dictionary with a numerical index and sort it. What happens?\n",
    "4. Now create a list with mixed numerical and string types and try to sort it. What happens? Can you understand why? Prove to yourself that the same thing happens if you use the same mixture of types as dictionary keys"
   ]
  },
  {
   "cell_type": "code",
   "execution_count": 27,
   "metadata": {},
   "outputs": [],
   "source": [
    "# Put your answers here (Esc > 'b' to add more cells)"
   ]
  },
  {
   "cell_type": "markdown",
   "metadata": {},
   "source": [
    "### Slices\n",
    "\n",
    "- Any collection with order can be slices\n",
    "- Slices have the form `start:stop:step`"
   ]
  },
  {
   "cell_type": "code",
   "execution_count": 28,
   "metadata": {},
   "outputs": [
    {
     "data": {
      "text/plain": [
       "'I am a string'"
      ]
     },
     "execution_count": 28,
     "metadata": {},
     "output_type": "execute_result"
    }
   ],
   "source": [
    "my_str = 'I am a string'\n",
    "my_str"
   ]
  },
  {
   "cell_type": "code",
   "execution_count": 29,
   "metadata": {},
   "outputs": [
    {
     "data": {
      "text/plain": [
       "'Im rg'"
      ]
     },
     "execution_count": 29,
     "metadata": {},
     "output_type": "execute_result"
    }
   ],
   "source": [
    "my_str[::3]"
   ]
  },
  {
   "cell_type": "code",
   "execution_count": 30,
   "metadata": {},
   "outputs": [
    {
     "data": {
      "text/plain": [
       "'I am a'"
      ]
     },
     "execution_count": 30,
     "metadata": {},
     "output_type": "execute_result"
    }
   ],
   "source": [
    "my_str[:6]"
   ]
  },
  {
   "cell_type": "code",
   "execution_count": 31,
   "metadata": {},
   "outputs": [
    {
     "data": {
      "text/plain": [
       "'I am a stri'"
      ]
     },
     "execution_count": 31,
     "metadata": {},
     "output_type": "execute_result"
    }
   ],
   "source": [
    "my_str[:-2]"
   ]
  },
  {
   "cell_type": "code",
   "execution_count": 32,
   "metadata": {},
   "outputs": [
    {
     "data": {
      "text/plain": [
       "'gnirts a'"
      ]
     },
     "execution_count": 32,
     "metadata": {},
     "output_type": "execute_result"
    }
   ],
   "source": [
    "my_str[:4:-1]"
   ]
  },
  {
   "cell_type": "markdown",
   "metadata": {},
   "source": [
    "#### Exercises\n",
    "\n",
    "Using the above as hints:\n",
    "\n",
    "1. Create a string and experiment with different slices of it.\n",
    "    * Make sure you understand how this works with positive numbers\n",
    "    * Then experiment with negative numbers\n",
    "2. Create and do the same with a list, and observe the similarity\n",
    "3. Create a dictionary and attempt to slice. Why doesn't this work? "
   ]
  },
  {
   "cell_type": "code",
   "execution_count": 33,
   "metadata": {},
   "outputs": [],
   "source": [
    "# Put your answers here (Esc > 'b' to add more cells)"
   ]
  },
  {
   "cell_type": "markdown",
   "metadata": {},
   "source": [
    "### Functions\n",
    "\n",
    "- A function is an object which does something\n",
    "    - E.g. `overEighteen(age)`\n",
    "        - Which operator would you use from the list to the right?\n",
    "    - Many functions already exist, and you can make your own\n",
    "- Most Python objects have functions attached to them – these are called methods\n",
    "- Operators are also functions that are made convenient to use\n"
   ]
  },
  {
   "cell_type": "code",
   "execution_count": 34,
   "metadata": {},
   "outputs": [
    {
     "data": {
      "text/plain": [
       "(True, False)"
      ]
     },
     "execution_count": 34,
     "metadata": {},
     "output_type": "execute_result"
    }
   ],
   "source": [
    "def overEighteen(age):\n",
    "    return age > 18\n",
    "\n",
    "overEighteen(23), overEighteen(17)"
   ]
  },
  {
   "cell_type": "markdown",
   "metadata": {},
   "source": [
    "#### Exercises\n",
    "\n",
    "Using the above as hints:\n",
    "\n",
    "1. Earlier on, you calculated the mean of a list of numbers. Write a function with does this, and use it on two different lists that you create.\n",
    "2. Define a numerical variable, and write a function with no inputs that squares that variable. See what happens when you run in multiple times. This type of use of a function is called a 'side-effect'ing function as opposed to a 'functional' function which has every variable it uses as an input and returns all its results as outputs\n",
    "3. Think about, and write into a comment, whether side-effecting or functional functions are better, and why? When most people get to here, we will stop to have a brief discussion about this, so be ready to give your opinion!"
   ]
  },
  {
   "cell_type": "code",
   "execution_count": 35,
   "metadata": {},
   "outputs": [],
   "source": [
    "# Put your answers here (Esc > 'b' to add more cells)"
   ]
  },
  {
   "cell_type": "markdown",
   "metadata": {},
   "source": [
    "### Flow Control"
   ]
  },
  {
   "cell_type": "code",
   "execution_count": 36,
   "metadata": {},
   "outputs": [
    {
     "name": "stdout",
     "output_type": "stream",
     "text": [
      "You are an adult\n"
     ]
    }
   ],
   "source": [
    "age = 23\n",
    "\n",
    "# If\n",
    "if age > 18:\n",
    "    print(\"You are an adult\")\n",
    "elif age == 18:\n",
    "    print(\"You are (just barely) an adult\")\n",
    "else:\n",
    "    print(\"You are not an adult\")"
   ]
  },
  {
   "cell_type": "code",
   "execution_count": 37,
   "metadata": {},
   "outputs": [
    {
     "name": "stdout",
     "output_type": "stream",
     "text": [
      "0\n",
      "1\n",
      "2\n",
      "3\n",
      "4\n"
     ]
    }
   ],
   "source": [
    "# For\n",
    "for i in range(5):\n",
    "    print(i)\n",
    "# range() is a special type of object - you can loop over it, or turn it\n",
    "# into a list, but until you do either of those things it can't really\n",
    "# be used for anything\n",
    "\n",
    "# also, notice that range() inputs work the same way as slices!"
   ]
  },
  {
   "cell_type": "code",
   "execution_count": 38,
   "metadata": {},
   "outputs": [
    {
     "name": "stdout",
     "output_type": "stream",
     "text": [
      "0\n",
      "1\n",
      "2\n",
      "3\n",
      "4\n"
     ]
    }
   ],
   "source": [
    "# While\n",
    "i = 0\n",
    "while i < 5:\n",
    "    print(i)\n",
    "    i += 1 # i = i + 1"
   ]
  },
  {
   "cell_type": "markdown",
   "metadata": {},
   "source": [
    "#### Exercises\n",
    "\n",
    "Using the above as hints:\n",
    "\n",
    "1. Write a function which checks if the input number is prime. Feel free to use the internet for help, but make sure you understand the solution\n",
    "2. Using the above function, make a function that checks if each successive number (0, 1, 2, 3...) up to the input is prime, and writes that information into a dictionary where the key is the number and the value is whether it is prime or not. See how large of a number you can put in and still a result reasonably quickly!"
   ]
  },
  {
   "cell_type": "code",
   "execution_count": 39,
   "metadata": {},
   "outputs": [],
   "source": [
    "# Put your answers here (Esc > 'b' to add more cells)"
   ]
  },
  {
   "cell_type": "markdown",
   "metadata": {},
   "source": [
    "### Imports\n",
    "\n",
    "- You can import packages in Python\n",
    "- Some are built into Python, like `datetime`, `os` and `time`\n",
    "    - `datetime` provides tools for working with… you guessed it (dates and times)\n",
    "    - `os` allows interaction with operating system\n",
    "    - `time` allow you to time things in Python\n",
    "    - These are just some examples, there are *far* too many to go through them all\n",
    "- Others, like numpy and pandas, are not\n",
    "    - These need to be installed\n",
    "- Python comes with a tool called ‘pip’ for installing packages\n"
   ]
  },
  {
   "cell_type": "code",
   "execution_count": 40,
   "metadata": {},
   "outputs": [
    {
     "data": {
      "text/plain": [
       "datetime.datetime(2025, 3, 17, 19, 37, 2, 324419)"
      ]
     },
     "execution_count": 40,
     "metadata": {},
     "output_type": "execute_result"
    }
   ],
   "source": [
    "import datetime\n",
    "datetime.datetime.now()"
   ]
  },
  {
   "cell_type": "code",
   "execution_count": 41,
   "metadata": {},
   "outputs": [
    {
     "data": {
      "text/plain": [
       "'/home/wyt/cd586/sandbox/pythongrc'"
      ]
     },
     "execution_count": 41,
     "metadata": {},
     "output_type": "execute_result"
    }
   ],
   "source": [
    "import os\n",
    "os.path.abspath('.') # . means 'here'"
   ]
  },
  {
   "cell_type": "code",
   "execution_count": 42,
   "metadata": {},
   "outputs": [
    {
     "data": {
      "text/plain": [
       "'Summing to integers to one billion took 13.376707 seconds (result = 499999999500000000)'"
      ]
     },
     "execution_count": 42,
     "metadata": {},
     "output_type": "execute_result"
    }
   ],
   "source": [
    "import time\n",
    "start = time.perf_counter()\n",
    "total = sum(range(int(1e9)))\n",
    "end = time.perf_counter()\n",
    "f\"Summing to integers to one billion took {end-start:.6f} seconds (result = {total})\""
   ]
  },
  {
   "cell_type": "code",
   "execution_count": 43,
   "metadata": {},
   "outputs": [
    {
     "name": "stdout",
     "output_type": "stream",
     "text": [
      "hello world\n"
     ]
    }
   ],
   "source": [
    "print(\"hello world\")"
   ]
  },
  {
   "cell_type": "markdown",
   "metadata": {},
   "source": [
    "#### Exercises\n",
    "\n",
    "Using the above as hints:\n",
    "\n",
    "1. Rewrite your answer to Q2 in the previous section so that instead of the dictionary value showing whether that number is prime or not, it now shows how long it took to determine if that number was prime.\n",
    "2. Now write a function that tells you which number is the largest number whose primeness can be checked in under 10 seconds. The answer may be slightly, or even a lot different each time you run it! This is because everything else happening inside the computer can affect how much time large operations take"
   ]
  },
  {
   "cell_type": "code",
   "execution_count": 44,
   "metadata": {},
   "outputs": [],
   "source": [
    "# Put your answers here (Esc > 'b' to add more cells)"
   ]
  },
  {
   "cell_type": "markdown",
   "metadata": {},
   "source": [
    "### Jupyter\n",
    "\n",
    "- “Hello world!” (traditional since 1972)\n",
    "- Like a cross between a document and a program.\n",
    "- Divided into cells: cells execute code and display output immediately.\n",
    "    - Can add text/image cells as well – if we do something complicated, we can use text to explain it to our reader!\n",
    "    - Markdown – has a few bells and whistles to help make it look nice\n",
    "- The Golden Goose of repeatability in scientific papers:\n",
    "    - The Jupyter “Notebook” is the paper – to repeat the study, just press ‘run’!\n"
   ]
  },
  {
   "cell_type": "code",
   "execution_count": 45,
   "metadata": {},
   "outputs": [
    {
     "name": "stdout",
     "output_type": "stream",
     "text": [
      "Hello, World!\n"
     ]
    }
   ],
   "source": [
    "print(\"Hello, World!\")"
   ]
  },
  {
   "cell_type": "markdown",
   "metadata": {},
   "source": [
    "#### Exercises\n",
    "\n",
    "Using the above as hints:\n",
    "\n",
    "1. Create a markdown cell below this one and add some text to it.\n",
    "\n",
    "2. Find a graph (of your favourite data) from the internet and use the internet to work out how to add the image to the cell you just added."
   ]
  },
  {
   "cell_type": "markdown",
   "metadata": {},
   "source": [
    "### Example Scripts"
   ]
  },
  {
   "cell_type": "code",
   "execution_count": 46,
   "metadata": {},
   "outputs": [
    {
     "name": "stdout",
     "output_type": "stream",
     "text": [
      "[0, 1, 1, 2, 3, 5, 8, 13, 21, 34]\n",
      "[0, 1]\n"
     ]
    }
   ],
   "source": [
    "# This script generates the first `n` numbers in the Fibonacci sequence.\n",
    "def generate_fibonacci(n):\n",
    "    fib_sequence = [0, 1]\n",
    "    for i in range(2, n):\n",
    "        next_number = fib_sequence[i - 1] + fib_sequence[i - 2]\n",
    "        fib_sequence.append(next_number)\n",
    "    return fib_sequence\n",
    "\n",
    "print(generate_fibonacci(10))  # Should print the first 10 Fibonacci numbers\n",
    "print(generate_fibonacci(0))   # Should print [0]"
   ]
  },
  {
   "cell_type": "code",
   "execution_count": 47,
   "metadata": {},
   "outputs": [
    {
     "name": "stdout",
     "output_type": "stream",
     "text": [
      "{'hello,': 1, 'world!': 1, 'hello': 1, 'python.': 1}\n"
     ]
    }
   ],
   "source": [
    "# This script counts the frequency of each word in a given text.\n",
    "def word_frequency(text):\n",
    "    words = text.split()\n",
    "    frequency = {}\n",
    "    for word in words:\n",
    "        word = word.lower()  # Normalize to lowercase\n",
    "        if word not in frequency:\n",
    "            frequency[word] = 0\n",
    "        frequency[word] += 1\n",
    "    return frequency\n",
    "\n",
    "text = \"Hello, world! Hello Python.\"\n",
    "print(word_frequency(text))  # Should count \"hello\" twice and ignore punctuation"
   ]
  },
  {
   "cell_type": "code",
   "execution_count": 48,
   "metadata": {},
   "outputs": [
    {
     "data": {
      "text/plain": [
       "'quartz,'"
      ]
     },
     "execution_count": 48,
     "metadata": {},
     "output_type": "execute_result"
    }
   ],
   "source": [
    "# This script finds the longest word(s) in a sentence.\n",
    "def find_longest_word(sentence):\n",
    "    words = sentence.split()\n",
    "    longest_word = \"\"\n",
    "    for word in words:\n",
    "        if len(word) > len(longest_word):\n",
    "            longest_word = word\n",
    "    return longest_word\n",
    "\n",
    "sentence = \"Sphinx of black quartz, judge my vow\"\n",
    "find_longest_word(sentence)  # Should print [\"Sphinx\", \"quartz\"]"
   ]
  },
  {
   "cell_type": "code",
   "execution_count": 49,
   "metadata": {},
   "outputs": [
    {
     "name": "stdout",
     "output_type": "stream",
     "text": [
      "6\n"
     ]
    },
    {
     "ename": "RecursionError",
     "evalue": "maximum recursion depth exceeded",
     "output_type": "error",
     "traceback": [
      "\u001b[0;31m---------------------------------------------------------------------------\u001b[0m",
      "\u001b[0;31mRecursionError\u001b[0m                            Traceback (most recent call last)",
      "Cell \u001b[0;32mIn[49], line 9\u001b[0m\n\u001b[1;32m      7\u001b[0m \u001b[38;5;66;03m# Test in Jupyter:\u001b[39;00m\n\u001b[1;32m      8\u001b[0m \u001b[38;5;28mprint\u001b[39m(sum_of_digits(\u001b[38;5;241m123\u001b[39m))   \u001b[38;5;66;03m# Should print 6 (1 + 2 + 3)\u001b[39;00m\n\u001b[0;32m----> 9\u001b[0m \u001b[38;5;28mprint\u001b[39m(sum_of_digits(\u001b[38;5;241m-\u001b[39m\u001b[38;5;241m123\u001b[39m))\n",
      "Cell \u001b[0;32mIn[49], line 5\u001b[0m, in \u001b[0;36msum_of_digits\u001b[0;34m(n)\u001b[0m\n\u001b[1;32m      3\u001b[0m \u001b[38;5;28;01mif\u001b[39;00m n \u001b[38;5;241m==\u001b[39m \u001b[38;5;241m0\u001b[39m:\n\u001b[1;32m      4\u001b[0m     \u001b[38;5;28;01mreturn\u001b[39;00m \u001b[38;5;241m0\u001b[39m\n\u001b[0;32m----> 5\u001b[0m \u001b[38;5;28;01mreturn\u001b[39;00m n \u001b[38;5;241m%\u001b[39m \u001b[38;5;241m10\u001b[39m \u001b[38;5;241m+\u001b[39m sum_of_digits(n \u001b[38;5;241m/\u001b[39m\u001b[38;5;241m/\u001b[39m \u001b[38;5;241m10\u001b[39m)\n",
      "Cell \u001b[0;32mIn[49], line 5\u001b[0m, in \u001b[0;36msum_of_digits\u001b[0;34m(n)\u001b[0m\n\u001b[1;32m      3\u001b[0m \u001b[38;5;28;01mif\u001b[39;00m n \u001b[38;5;241m==\u001b[39m \u001b[38;5;241m0\u001b[39m:\n\u001b[1;32m      4\u001b[0m     \u001b[38;5;28;01mreturn\u001b[39;00m \u001b[38;5;241m0\u001b[39m\n\u001b[0;32m----> 5\u001b[0m \u001b[38;5;28;01mreturn\u001b[39;00m n \u001b[38;5;241m%\u001b[39m \u001b[38;5;241m10\u001b[39m \u001b[38;5;241m+\u001b[39m sum_of_digits(n \u001b[38;5;241m/\u001b[39m\u001b[38;5;241m/\u001b[39m \u001b[38;5;241m10\u001b[39m)\n",
      "    \u001b[0;31m[... skipping similar frames: sum_of_digits at line 5 (2974 times)]\u001b[0m\n",
      "Cell \u001b[0;32mIn[49], line 5\u001b[0m, in \u001b[0;36msum_of_digits\u001b[0;34m(n)\u001b[0m\n\u001b[1;32m      3\u001b[0m \u001b[38;5;28;01mif\u001b[39;00m n \u001b[38;5;241m==\u001b[39m \u001b[38;5;241m0\u001b[39m:\n\u001b[1;32m      4\u001b[0m     \u001b[38;5;28;01mreturn\u001b[39;00m \u001b[38;5;241m0\u001b[39m\n\u001b[0;32m----> 5\u001b[0m \u001b[38;5;28;01mreturn\u001b[39;00m n \u001b[38;5;241m%\u001b[39m \u001b[38;5;241m10\u001b[39m \u001b[38;5;241m+\u001b[39m sum_of_digits(n \u001b[38;5;241m/\u001b[39m\u001b[38;5;241m/\u001b[39m \u001b[38;5;241m10\u001b[39m)\n",
      "\u001b[0;31mRecursionError\u001b[0m: maximum recursion depth exceeded"
     ]
    }
   ],
   "source": [
    "# This script calculates the sum of digits of a number recursively.\n",
    "def sum_of_digits(n):\n",
    "    if n == 0:\n",
    "        return 0\n",
    "    return n % 10 + sum_of_digits(n // 10)\n",
    "\n",
    "# Test in Jupyter:\n",
    "print(sum_of_digits(123))   # Should print 6 (1 + 2 + 3)\n",
    "print(sum_of_digits(-123))  # Should print an error or incorrect result"
   ]
  }
 ],
 "metadata": {
  "kernelspec": {
   "display_name": "eda",
   "language": "python",
   "name": "python3"
  },
  "language_info": {
   "codemirror_mode": {
    "name": "ipython",
    "version": 3
   },
   "file_extension": ".py",
   "mimetype": "text/x-python",
   "name": "python",
   "nbconvert_exporter": "python",
   "pygments_lexer": "ipython3",
   "version": "3.12.7"
  }
 },
 "nbformat": 4,
 "nbformat_minor": 2
}
